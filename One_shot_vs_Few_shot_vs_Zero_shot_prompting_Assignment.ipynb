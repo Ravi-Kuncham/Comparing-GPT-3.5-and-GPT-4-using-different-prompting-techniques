{
  "cells": [
    {
      "cell_type": "code",
      "execution_count": 1,
      "metadata": {
        "id": "p06BdYSkEoi0"
      },
      "outputs": [
        {
          "name": "stderr",
          "output_type": "stream",
          "text": [
            "c:\\Users\\ravit\\AppData\\Local\\Programs\\Python\\Python312\\Lib\\site-packages\\tqdm\\auto.py:21: TqdmWarning: IProgress not found. Please update jupyter and ipywidgets. See https://ipywidgets.readthedocs.io/en/stable/user_install.html\n",
            "  from .autonotebook import tqdm as notebook_tqdm\n"
          ]
        }
      ],
      "source": [
        "# Importing the necessary libraries:\n",
        "import openai\n",
        "import os\n",
        "from dotenv import load_dotenv\n",
        "from datasets import load_dataset"
      ]
    },
    {
      "cell_type": "code",
      "execution_count": 2,
      "metadata": {
        "id": "NxHlL13NDw4m"
      },
      "outputs": [],
      "source": [
        "# ------NOTE: Use this piece of code when you are running the code on you local machine ##-------\n",
        "# Loading the API key into the environment:\n",
        "load_dotenv('D:/Learning/Gen AI/Building LLM Applications using Prompt Engineering/API Keys/.env')\n",
        "\n",
        "# Assigning the API key to a variable:\n",
        "OPENAI_API_KEY = os.environ[\"OPENAI_API_KEY\"]\n",
        "\n",
        "# Assigning client:\n",
        "client = openai.OpenAI()\n",
        "\n",
        "# ## ------NOTE: Use this piece of code when you are running the code on Google colab (Assign the API key in the secrets tab on the left)##-------\n",
        "# from google.colab import userdata\n",
        "# # Assigning the API key to a variable:\n",
        "# OPENAI_API_KEY = userdata.get('OPENAI_API_KEY')\n",
        "# openai.api_key = OPENAI_API_KEY\n",
        "# client = openai"
      ]
    },
    {
      "cell_type": "code",
      "execution_count": 3,
      "metadata": {
        "id": "E8L77U_oDw6L"
      },
      "outputs": [],
      "source": [
        "# OpenAI function parameters:\n",
        "model_1 ='gpt-3.5-turbo'\n",
        "model_2 ='gpt-4-turbo'"
      ]
    },
    {
      "cell_type": "code",
      "execution_count": 4,
      "metadata": {
        "id": "DJ9ubx1yDw8i"
      },
      "outputs": [],
      "source": [
        "# Function accepts the prompt as an input and returns the response\n",
        "def get_response(prompt, sys_prompt=\"You are a helpful assistant\", temperature=0, model=\"gpt-3.5-turbo\"):\n",
        "    messages = [{\"role\":\"system\",\"content\":sys_prompt},\n",
        "                {\"role\":\"user\",\"content\":prompt}\n",
        "                ]\n",
        "    response = openai.chat.completions.create(\n",
        "        model=model,\n",
        "        messages=messages,\n",
        "        temperature=temperature\n",
        "     )\n",
        "    return response.choices[0].message.content"
      ]
    },
    {
      "cell_type": "code",
      "execution_count": 6,
      "metadata": {
        "colab": {
          "base_uri": "https://localhost:8080/"
        },
        "id": "Cg-EVoynFj6U",
        "outputId": "227738a3-130e-44a5-8ca0-4448da5eeb33"
      },
      "outputs": [
        {
          "name": "stdout",
          "output_type": "stream",
          "text": [
            "### Exploring the Epic Saga of God of War: Ragnarok\n",
            "\n",
            "The release of \"God of War: Ragnarok\" has been one of the most anticipated events in the gaming world, following the critically acclaimed reboot of the series in 2018. Developed by Santa Monica Studio and published by Sony Interactive Entertainment, this sequel not only continues the poignant journey of Kratos and his son Atreus but also dives deeper into the rich tapestry of Norse mythology.\n",
            "\n",
            "#### A Deeper Dive into Norse Lore\n",
            "\n",
            "\"God of War: Ragnarok\" picks up where the previous game left off, with the prophecy of Ragnarok - the end of days in Norse mythology - hanging heavily over the protagonists. The game enriches its narrative by exploring more complex themes and delving into the conflicts and struggles of its characters. Players are taken on a journey through various realms of Norse mythology, each beautifully crafted and filled with new challenges and enemies.\n",
            "\n",
            "#### Enhanced Gameplay and Mechanics\n",
            "\n",
            "The gameplay in \"Ragnarok\" has been refined and expanded from its predecessor. Kratos still wields his trusty Leviathan Axe and Blades of Chaos, but the combat system has been enhanced to offer more fluidity and strategic depth. The addition of new abilities and the refinement of existing ones allow for a more personalized combat experience. Moreover, Atreus has grown as a character and fighter, contributing more significantly in battles and puzzles.\n",
            "\n",
            "#### Visuals and Sound - A Treat for the Senses\n",
            "\n",
            "Graphically, \"God of War: Ragnarok\" is a masterpiece. The attention to detail in the environments, character models, and animations is impeccable, pushing the limits of what is possible on current gaming consoles. Accompanied by a stirring soundtrack that perfectly captures the emotional tone and epic scope of the story, the game is a feast for the senses.\n",
            "\n",
            "#### A Story of Father and Son\n",
            "\n",
            "At its heart, \"God of War: Ragnarok\" is a story about the relationship between a father and his son facing incredible odds. The narrative explores themes of prophecy, fate, and free will, with Kratos and Atreus each grappling with their identity and destiny. The emotional depth of the story adds a compelling layer to the game, making players invested in the characters and their journey.\n",
            "\n",
            "#### Conclusion\n",
            "\n",
            "\"God of War: Ragnarok\" is a triumphant follow-up to its predecessor, expanding on every aspect that made the previous game a success. With its engaging story, enhanced gameplay, stunning visuals, and emotional depth, it is not just a game but an epic narrative experience. Whether you're a fan of action games or compelling storytelling, \"Ragnarok\" is a journey worth taking. It's a testament to how video games can be powerful storytelling mediums, capable of weaving complex tales that resonate with players long after the console has been turned off.\n"
          ]
        }
      ],
      "source": [
        "# Simple Prompt:\n",
        "prompt = \"Write a short blog post on God of War ragnarok\"\n",
        "print(get_response(prompt,temperature=0,model=model_2))"
      ]
    },
    {
      "cell_type": "code",
      "execution_count": 5,
      "metadata": {
        "colab": {
          "base_uri": "https://localhost:8080/"
        },
        "id": "WENncRqxDw-g",
        "outputId": "956e2497-3d28-43cb-907c-558c4227a577"
      },
      "outputs": [
        {
          "name": "stderr",
          "output_type": "stream",
          "text": [
            "c:\\Users\\ravit\\AppData\\Local\\Programs\\Python\\Python312\\Lib\\site-packages\\datasets\\load.py:1486: FutureWarning: The repository for bigbio/med_qa contains custom code which must be executed to correctly load the dataset. You can inspect the repository content at https://hf.co/datasets/bigbio/med_qa\n",
            "You can avoid this message in future by passing the argument `trust_remote_code=True`.\n",
            "Passing `trust_remote_code=True` will be mandatory to load this dataset from the next major release of `datasets`.\n",
            "  warnings.warn(\n"
          ]
        }
      ],
      "source": [
        "# Loading the Huggingface dataset:\n",
        "dataset = load_dataset(\"bigbio/med_qa\")"
      ]
    },
    {
      "cell_type": "code",
      "execution_count": 6,
      "metadata": {
        "colab": {
          "base_uri": "https://localhost:8080/"
        },
        "id": "GO4LX5aDalrB",
        "outputId": "09ff1f17-f4ee-48cd-fa28-08239d37530f"
      },
      "outputs": [
        {
          "data": {
            "text/plain": [
              "DatasetDict({\n",
              "    train: Dataset({\n",
              "        features: ['meta_info', 'question', 'answer_idx', 'answer', 'options'],\n",
              "        num_rows: 10178\n",
              "    })\n",
              "    test: Dataset({\n",
              "        features: ['meta_info', 'question', 'answer_idx', 'answer', 'options'],\n",
              "        num_rows: 1273\n",
              "    })\n",
              "    validation: Dataset({\n",
              "        features: ['meta_info', 'question', 'answer_idx', 'answer', 'options'],\n",
              "        num_rows: 1272\n",
              "    })\n",
              "})"
            ]
          },
          "execution_count": 6,
          "metadata": {},
          "output_type": "execute_result"
        }
      ],
      "source": [
        "dataset"
      ]
    },
    {
      "cell_type": "code",
      "execution_count": 7,
      "metadata": {
        "id": "JnJQH8RtDxBL"
      },
      "outputs": [],
      "source": [
        "# Creating lists to hold the questions, options, answer_ids and answers\n",
        "questions = []\n",
        "answers = []\n",
        "\n",
        "# Extracting the details from the trainin dataset into their respective lists:\n",
        "for i in range(5):\n",
        "\n",
        "  question = dataset['validation'][i]['question']\n",
        "  options = dataset['validation'][i]['options']\n",
        "  answer_id = dataset['validation'][i]['answer_idx']\n",
        "  answer = dataset['validation'][i]['answer']\n",
        "\n",
        "  # Creating List of options in text format:\n",
        "  options_new = ''\n",
        "  for i in range(len(options)):\n",
        "    options_new = options_new +'('+options[i].get('key') +')'+options[i].get('value')+'\\n'\n",
        "\n",
        "  # Concatenating question to the list of options:\n",
        "  question_new = question+'\\n'+options_new\n",
        "  # Concatenating answer_id and answer:\n",
        "  answer_new = '('+answer_id+')'+answer\n",
        "\n",
        "  # Adding question+options to the questions list:\n",
        "  questions.append(question_new)\n",
        "  # Adding answer_id+answer to the answers list:\n",
        "  answers.append(answer_new)"
      ]
    },
    {
      "cell_type": "code",
      "execution_count": 8,
      "metadata": {
        "colab": {
          "base_uri": "https://localhost:8080/"
        },
        "id": "2AFPmkngDxGE",
        "outputId": "93411b78-c801-43ae-9608-d3446f5146d7"
      },
      "outputs": [
        {
          "name": "stdout",
          "output_type": "stream",
          "text": [
            "A 21-year-old sexually active male complains of fever, pain during urination, and inflammation and pain in the right knee. A culture of the joint fluid shows a bacteria that does not ferment maltose and has no polysaccharide capsule. The physician orders antibiotic therapy for the patient. The mechanism of action of action of the medication given blocks cell wall synthesis, which of the following was given?\n",
            "(A)Chloramphenicol\n",
            "(B)Gentamicin\n",
            "(C)Ciprofloxacin\n",
            "(D)Ceftriaxone\n",
            "(E)Trimethoprim\n",
            "\n",
            "(D)Ceftriaxone\n"
          ]
        }
      ],
      "source": [
        "# Question to test the LLM model:\n",
        "validation_question = dataset['validation'][0]['question']\n",
        "validation_options = dataset['validation'][0]['options']\n",
        "validation_answer_id = dataset['validation'][0]['answer_idx']\n",
        "validation_answer = dataset['validation'][0]['answer']\n",
        "\n",
        "# Creating List of options in text format:\n",
        "validation_options_new = ''\n",
        "for i in range(len(validation_options)):\n",
        "  validation_options_new = validation_options_new +'('+validation_options[i].get('key') +')'+validation_options[i].get('value')+'\\n'\n",
        "\n",
        "# Concatenating question to the list of options:\n",
        "validation_question_new = validation_question+'\\n'+validation_options_new\n",
        "# Concatenating answer_id and answer:\n",
        "validation_answer_new = '('+validation_answer_id+')'+validation_answer\n",
        "\n",
        "# Displaying validation question and answer:\n",
        "print(validation_question_new)\n",
        "print(validation_answer_new)"
      ]
    },
    {
      "cell_type": "markdown",
      "metadata": {
        "id": "gpZ_5CwY3-jH"
      },
      "source": [
        "## **Few shot prompting:**"
      ]
    },
    {
      "cell_type": "code",
      "execution_count": 9,
      "metadata": {
        "colab": {
          "base_uri": "https://localhost:8080/"
        },
        "id": "L_RVHjf_f9PU",
        "outputId": "c216b72c-0bfa-4528-d801-38b2ab61323b"
      },
      "outputs": [
        {
          "name": "stdout",
          "output_type": "stream",
          "text": [
            "GPT-3.5 response:\n",
            "(D)Ceftriaxone\n",
            "\n",
            "\n",
            "GPT-4 response:\n",
            "(D)Ceftriaxone\n"
          ]
        }
      ],
      "source": [
        "# Few shot prompting:\n",
        "prompt = f'''Question:{questions[0]}\n",
        "Answer:{answers[0]}\n",
        "\n",
        "Question:{questions[1]}\n",
        "Answer:{answers[1]}\n",
        "\n",
        "Question:{questions[2]}\n",
        "Answer:{answers[2]}\n",
        "\n",
        "Question:{validation_question_new}\n",
        "Answer:\n",
        "'''\n",
        "sys_prompt = \"You are a helpful assistant that answers multiple choice questions about Medical knowledge\"\n",
        "\n",
        "# Response from gpt-3.5:\n",
        "model_1_few_shot_response = get_response(prompt,sys_prompt,0,model_1)\n",
        "print(\"GPT-3.5 response:\")\n",
        "print(model_1_few_shot_response)\n",
        "print('\\n')\n",
        "# Response from gpt-4:\n",
        "model_2_few_shot_response = get_response(prompt,sys_prompt,0,model_2)\n",
        "print(\"GPT-4 response:\")\n",
        "print(model_2_few_shot_response)"
      ]
    },
    {
      "cell_type": "markdown",
      "metadata": {
        "id": "ipIGL0kj4Dua"
      },
      "source": [
        "## **One shot prompting:**"
      ]
    },
    {
      "cell_type": "code",
      "execution_count": 10,
      "metadata": {
        "colab": {
          "base_uri": "https://localhost:8080/"
        },
        "id": "t8QmcTSlDxIN",
        "outputId": "c1a2826c-c8fd-4166-9f70-c305327043e8"
      },
      "outputs": [
        {
          "name": "stdout",
          "output_type": "stream",
          "text": [
            "GPT-3.5 response:\n",
            "(D)Ceftriaxone\n",
            "\n",
            "\n",
            "GPT-4 response:\n",
            "(D) Ceftriaxone\n",
            "\n",
            "Ceftriaxone is a cephalosporin antibiotic that works by inhibiting bacterial cell wall synthesis, making it an appropriate choice for treating infections caused by bacteria that do not ferment maltose and lack a polysaccharide capsule, such as Neisseria gonorrhoeae.\n"
          ]
        }
      ],
      "source": [
        "# one shot prompting:\n",
        "prompt = f'''Question:{questions[0]}\n",
        "Answer:{answers[0]}\n",
        "\n",
        "Question:{validation_question_new}\n",
        "Answer:\n",
        "'''\n",
        "sys_prompt = \"You are a helpful assistant that answers multiple choice questions about Medical knowledge\"\n",
        "\n",
        "# Response from gpt-3.5:\n",
        "model_1_one_shot_response = get_response(prompt,sys_prompt,0,model_1)\n",
        "print(\"GPT-3.5 response:\")\n",
        "print(model_1_one_shot_response)\n",
        "print('\\n')\n",
        "# Response from gpt-4:\n",
        "model_2_one_shot_response = get_response(prompt,sys_prompt,0,model_2)\n",
        "print(\"GPT-4 response:\")\n",
        "print(model_2_one_shot_response)"
      ]
    },
    {
      "cell_type": "markdown",
      "metadata": {
        "id": "v8yfiPef4Ijt"
      },
      "source": [
        "## **Zero shot prompting:**"
      ]
    },
    {
      "cell_type": "code",
      "execution_count": 11,
      "metadata": {
        "colab": {
          "base_uri": "https://localhost:8080/"
        },
        "id": "HuxFsnUHuU2s",
        "outputId": "14aadc51-8ea5-4416-deba-85d53b929233"
      },
      "outputs": [
        {
          "name": "stdout",
          "output_type": "stream",
          "text": [
            "GPT-3.5 response:\n",
            "(D) Ceftriaxone\n",
            "\n",
            "Ceftriaxone is a cephalosporin antibiotic that works by inhibiting cell wall synthesis in bacteria. It is commonly used to treat infections caused by gram-negative bacteria, such as gonorrhea and joint infections.\n",
            "\n",
            "\n",
            "GPT-4 response:\n",
            "The correct answer is (D) Ceftriaxone.\n",
            "\n",
            "Ceftriaxone is a third-generation cephalosporin antibiotic that works by inhibiting bacterial cell wall synthesis. This makes it effective against a broad range of gram-positive and gram-negative bacteria. The symptoms described in the question, along with the culture results, suggest a bacterial infection that could be effectively treated with an antibiotic like ceftriaxone. The other options listed do not primarily function by blocking cell wall synthesis: Chloramphenicol inhibits protein synthesis, Gentamicin is an aminoglycoside that inhibits protein synthesis, Ciprofloxacin is a fluoroquinolone that inhibits DNA gyrase, and Trimethoprim is a folate synthesis inhibitor.\n"
          ]
        }
      ],
      "source": [
        "# Zero shot prompting:\n",
        "prompt = f'''Question:{validation_question_new}\n",
        "Answer:\n",
        "'''\n",
        "sys_prompt = \"You are a helpful assistant that answers multiple choice questions about Medical knowledge\"\n",
        "\n",
        "# Response from gpt-3.5:\n",
        "model_1_zero_shot_response = get_response(prompt,sys_prompt,0,model_1)\n",
        "print(\"GPT-3.5 response:\")\n",
        "print(model_1_zero_shot_response)\n",
        "print('\\n')\n",
        "# Response from gpt-4:\n",
        "model_2_zero_shot_response = get_response(prompt,sys_prompt,0,model_2)\n",
        "print(\"GPT-4 response:\")\n",
        "print(model_2_zero_shot_response)"
      ]
    },
    {
      "cell_type": "code",
      "execution_count": null,
      "metadata": {
        "id": "dMwURifm2cwX"
      },
      "outputs": [],
      "source": []
    }
  ],
  "metadata": {
    "colab": {
      "provenance": []
    },
    "kernelspec": {
      "display_name": "Python 3",
      "name": "python3"
    },
    "language_info": {
      "codemirror_mode": {
        "name": "ipython",
        "version": 3
      },
      "file_extension": ".py",
      "mimetype": "text/x-python",
      "name": "python",
      "nbconvert_exporter": "python",
      "pygments_lexer": "ipython3",
      "version": "3.12.3"
    }
  },
  "nbformat": 4,
  "nbformat_minor": 0
}
